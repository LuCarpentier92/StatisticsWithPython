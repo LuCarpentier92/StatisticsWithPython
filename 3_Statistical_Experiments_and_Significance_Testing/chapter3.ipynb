{
 "cells": [
  {
   "metadata": {},
   "cell_type": "markdown",
   "source": [
    "# Chapitre 3 - Expériences statistiques et tests de significativité"
   ],
   "id": "dc32358498831af8"
  },
  {
   "metadata": {
    "ExecuteTime": {
     "end_time": "2024-09-15T12:55:13.649220600Z",
     "start_time": "2024-09-15T12:55:12.519040100Z"
    }
   },
   "cell_type": "code",
   "source": [
    "%matplotlib inline\n",
    "\n",
    "from pathlib import Path\n",
    "import random\n",
    "\n",
    "import pandas as pd\n",
    "import numpy as np\n",
    "\n",
    "from scipy import stats\n",
    "import statsmodels.api as sm\n",
    "import statsmodels.formula.api as smf\n",
    "from statsmodels.stats import power\n",
    "\n",
    "import matplotlib.pylab as plt"
   ],
   "id": "ae06c007978c6087",
   "outputs": [],
   "execution_count": 1
  },
  {
   "metadata": {
    "ExecuteTime": {
     "end_time": "2024-09-15T12:55:13.686028500Z",
     "start_time": "2024-09-15T12:55:13.650221Z"
    }
   },
   "cell_type": "code",
   "source": [
    "try:\n",
    "    import common\n",
    "    DATA = common.dataDirectory()\n",
    "except ImportError:\n",
    "    DATA = Path().resolve() / 'data'"
   ],
   "id": "ab52f8036a0998fd",
   "outputs": [],
   "execution_count": 2
  },
  {
   "metadata": {
    "ExecuteTime": {
     "end_time": "2024-09-15T12:55:13.697025500Z",
     "start_time": "2024-09-15T12:55:13.681028Z"
    }
   },
   "cell_type": "code",
   "source": [
    "WEB_PAGE_DATA_CSV = DATA / 'web_page_data.csv'\n",
    "FOUR_SESSIONS_CSV = DATA / 'four_sessions.csv'\n",
    "CLICK_RATE_CSV = DATA / 'click_rates.csv'\n",
    "IMANISHI_CSV = DATA / 'imanishi_data.csv'"
   ],
   "id": "b04e63fe3b0257be",
   "outputs": [],
   "execution_count": 3
  },
  {
   "metadata": {},
   "cell_type": "markdown",
   "source": [
    "Un test d'hypothèse est une procédure statistique qui permet de décider si une hypothèse est vraie ou fausse. Le but est de savoir si le facteur chance est responsable de l'observation d'un événement ou si cet événement est dû à un phénomène réel.\n",
    "\n",
    "## L'hypothèse nulle (H0) :\n",
    "L'effet est dû au hasard.\n",
    "\n",
    "\n",
    "## L'hypothèse alternative (H1) :\n",
    "L'effet est dû à un phénomène réel.\n",
    "\n",
    "### Remarque :\n",
    " H0 et H1 doivent former l'ensemble des événements possibles\n",
    "\n",
    "## Conditions de réalisation du test de significativé\n",
    "Dans un test A/B correctement réalisé, nous collectons des données sur les traitements subis par A et B de telle sorte qu'une différence ne puisse être que le fruit :\n",
    "    - du hasard lors de l'attribution des groupes\n",
    "    - une différence vraie entre A et B \n",
    "    \n",
    "\n",
    "## Explications \n",
    "\"Étant donné la tendance humaine à réagir à un comportement inhabituel mais aléatoire et à l'interpréter comme quelque chose de significatif et réel, dans nos expériences, nous exigerons une preuve que la différence entre les groupes est plus extrême que ce que le hasard pourrait raisonnablement produire.\"\n"
   ],
   "id": "12aa8d783b84e0c"
  },
  {
   "metadata": {},
   "cell_type": "markdown",
   "source": [
    "## Tests d'hypothèses"
   ],
   "id": "638a2a20bbde4ebd"
  },
  {
   "metadata": {
    "ExecuteTime": {
     "end_time": "2024-09-15T12:55:13.722025400Z",
     "start_time": "2024-09-15T12:55:13.698029500Z"
    }
   },
   "cell_type": "code",
   "source": [
    "session_times = pd.read_csv(WEB_PAGE_DATA_CSV)\n",
    "session_times = pd.DataFrame(session_times)\n",
    "session_times.Time = 100 * session_times.Time"
   ],
   "id": "e1db4a2ad937d6bf",
   "outputs": [],
   "execution_count": 4
  },
  {
   "metadata": {
    "ExecuteTime": {
     "end_time": "2024-09-15T12:55:13.735033300Z",
     "start_time": "2024-09-15T12:55:13.714026200Z"
    }
   },
   "cell_type": "code",
   "source": [
    "mean_a = session_times[session_times.Page == 'Page A'].Time.mean()\n",
    "mean_b = session_times[session_times.Page == 'Page B'].Time.mean()\n",
    "mean_b - mean_a"
   ],
   "id": "b602ce75b7c33c11",
   "outputs": [
    {
     "data": {
      "text/plain": "35.66666666666667"
     },
     "execution_count": 5,
     "metadata": {},
     "output_type": "execute_result"
    }
   ],
   "execution_count": 5
  },
  {
   "metadata": {},
   "cell_type": "markdown",
   "source": [
    "### Test de Permuation\n",
    "\n",
    "On voit que la moyenne du temps de chargement de la page B est plus élevée que celle de la page A. Mais est-ce que cette différence est statistiquement significative ? Pour le savoir, on peut effectuer un test de permutation."
   ],
   "id": "13c5e6b39669b5d5"
  },
  {
   "metadata": {
    "ExecuteTime": {
     "end_time": "2024-09-15T12:55:13.764549300Z",
     "start_time": "2024-09-15T12:55:13.730031400Z"
    }
   },
   "cell_type": "code",
   "source": [
    "def perm_fun(x, nA, nB):\n",
    "    n = nA + nB\n",
    "    idx_B = set(random.sample(range(n), nB))\n",
    "    idx_A = set(range(n)) - idx_B\n",
    "    return x.loc[list(idx_B)].mean() - x.loc[list(idx_A)].mean()"
   ],
   "id": "37df054b2b7da717",
   "outputs": [],
   "execution_count": 6
  },
  {
   "cell_type": "code",
   "execution_count": 7,
   "outputs": [
    {
     "data": {
      "text/plain": "Text(0.5, 0.98, '')"
     },
     "execution_count": 7,
     "metadata": {},
     "output_type": "execute_result"
    },
    {
     "data": {
      "text/plain": "<Figure size 640x480 with 1 Axes>",
      "image/png": "[encoded data removed]"
     },
     "metadata": {},
     "output_type": "display_data"
    }
   ],
   "source": [
    "ax = session_times.boxplot(by='Page', column='Time')\n",
    "ax.set_xlabel('')\n",
    "ax.set_ylabel('Temps (en secondes)')\n",
    "plt.suptitle('')"
   ],
   "metadata": {
    "ExecuteTime": {
     "end_time": "2024-09-15T12:55:13.872066700Z",
     "start_time": "2024-09-15T12:55:13.745549500Z"
    }
   },
   "id": "c0ce75e0934ec378"
  },
  {
   "metadata": {
    "ExecuteTime": {
     "end_time": "2024-09-15T12:55:13.928070700Z",
     "start_time": "2024-09-15T12:55:13.873066600Z"
    }
   },
   "cell_type": "code",
   "source": [
    "session_times = pd.DataFrame(session_times)\n",
    "\n",
    "nA = session_times[session_times.Page == 'Page A'].shape[0]\n",
    "nB = session_times[session_times.Page == 'Page B'].shape[0]\n",
    "\n",
    "print(perm_fun(session_times.Time, nA, nB))"
   ],
   "id": "91260690ad1f65b0",
   "outputs": [
    {
     "name": "stdout",
     "output_type": "stream",
     "text": [
      "4.695238095238096\n"
     ]
    }
   ],
   "execution_count": 8
  },
  {
   "metadata": {
    "ExecuteTime": {
     "end_time": "2024-09-15T12:55:14.552207900Z",
     "start_time": "2024-09-15T12:55:13.890066300Z"
    }
   },
   "cell_type": "code",
   "source": [
    "perm_diffs = [perm_fun(session_times.Time, nA, nB) for _ in range(1000)]\n",
    "\n",
    "fig, ax = plt.subplots(figsize=(5, 5))\n",
    "ax.hist(perm_diffs, bins=11, rwidth=0.9)\n",
    "ax.axvline(x = mean_b - mean_a, color='black', lw=2)\n",
    "ax.text(50, 190, 'Différence\\nobservée', bbox={'facecolor':'white'})\n",
    "ax.set_xlabel('Différence de temps de session (en secondes)')\n",
    "ax.set_ylabel('Fréquence')"
   ],
   "id": "570c51a976c5eddc",
   "outputs": [
    {
     "data": {
      "text/plain": "Text(0, 0.5, 'Fréquence')"
     },
     "execution_count": 9,
     "metadata": {},
     "output_type": "execute_result"
    },
    {
     "data": {
      "text/plain": "<Figure size 500x500 with 1 Axes>",
      "image/png": "[encoded data removed]"
     },
     "metadata": {},
     "output_type": "display_data"
    }
   ],
   "execution_count": 9
  },
  {
   "cell_type": "markdown",
   "source": [
    "\n",
    "De ce que l'on peut en conclure avec ce résultat, il ne semble pas y avoir de réelle différence entre A et B."
   ],
   "metadata": {
    "collapsed": false
   },
   "id": "53c958d0bcf08b10"
  },
  {
   "cell_type": "markdown",
   "source": [
    "## Significativité Statistique et p-Valeurs"
   ],
   "metadata": {
    "collapsed": false
   },
   "id": "f344e005b5ea086b"
  },
  {
   "cell_type": "markdown",
   "source": [
    "### p-value\n",
    "Étant donné un modèle de hasard qui incarne l'hypothèse nulle, la p-value est la probabilité d'obtenir des résultats aussi inhabituels ou extrêmes que les résultats observés.\n",
    "\n",
    "### Alpha\n",
    "Le seuil de probabilité d'« inhabituel » que les résultats dus au hasard doivent dépasser pour que les résultats réels soient considérés comme statistiquement significatifs.\n",
    "\n",
    "### Erreur de type 1\n",
    "Conclusion erronée qu'un effet est réel (alors qu'il est dû au hasard).\n",
    "\n",
    "### Erreur de type 2\n",
    "Conclusion erronée qu'un effet est dû au hasard (alors qu'il est réel).\n"
   ],
   "metadata": {
    "collapsed": false
   },
   "id": "7bb304cd2d8528a7"
  },
  {
   "cell_type": "code",
   "execution_count": 10,
   "outputs": [
    {
     "name": "stdout",
     "output_type": "stream",
     "text": [
      "Différence observée: 0.0368%\n"
     ]
    },
    {
     "data": {
      "text/plain": "Text(0, 0.5, 'Fréquence')"
     },
     "execution_count": 10,
     "metadata": {},
     "output_type": "execute_result"
    },
    {
     "data": {
      "text/plain": "<Figure size 500x500 with 1 Axes>",
      "image/png": "[encoded data removed]"
     },
     "metadata": {},
     "output_type": "display_data"
    }
   ],
   "source": [
    "obs_pct_diff = 100 * (200/23739 - 182/22588)\n",
    "print(f'Différence observée: {obs_pct_diff:.4f}%')\n",
    "\n",
    "conversion = [0]*45945\n",
    "conversion.extend([1]*382)\n",
    "conversion = pd.Series(conversion)\n",
    "\n",
    "perm_diffs = [100 * perm_fun(conversion, 23739, 22588) for _ in range(1000)]\n",
    "\n",
    "fig, ax = plt.subplots(figsize=(5, 5))\n",
    "ax.hist(perm_diffs, bins=11, rwidth=0.9)\n",
    "ax.axvline(x = obs_pct_diff, color='black', lw=2)\n",
    "ax.text(0.06,200, 'Différence\\nobservée', bbox={'facecolor':'white'})\n",
    "ax.set_xlabel('Taux de conversion')\n",
    "ax.set_ylabel('Fréquence')"
   ],
   "metadata": {
    "collapsed": false,
    "ExecuteTime": {
     "end_time": "2024-09-15T12:55:26.842564700Z",
     "start_time": "2024-09-15T12:55:14.554207600Z"
    }
   },
   "id": "91e9aa2b3b701743"
  },
  {
   "cell_type": "markdown",
   "source": [
    "### p-Valeur\n",
    "\n",
    "Définition : La probabilité un model basé sur le hasard puisse donner des résultats aussi extrêmes que ceux observés précedemment.\n",
    "\n",
    "Rien d'autre ne peut en être déduit, il ne faut pas sur interpréter cette statistique car cela risque de mener à des erreurs grossières.\n"
   ],
   "metadata": {
    "collapsed": false
   },
   "id": "731fa11fedba52df"
  },
  {
   "cell_type": "code",
   "execution_count": 11,
   "outputs": [
    {
     "data": {
      "text/plain": "0.321"
     },
     "execution_count": 11,
     "metadata": {},
     "output_type": "execute_result"
    }
   ],
   "source": [
    "np.mean([diff > obs_pct_diff for diff in perm_diffs])"
   ],
   "metadata": {
    "collapsed": false,
    "ExecuteTime": {
     "end_time": "2024-09-15T12:55:26.859631900Z",
     "start_time": "2024-09-15T12:55:26.841151400Z"
    }
   },
   "id": "57a8601298a88f25"
  },
  {
   "cell_type": "code",
   "execution_count": 12,
   "outputs": [
    {
     "name": "stdout",
     "output_type": "stream",
     "text": [
      "p-valeur pour un test unilatéral: 0.3498\n"
     ]
    }
   ],
   "source": [
    "survivors = np.array([[200, 23739 - 200], [182, 22588 - 182]])\n",
    "chi2, p_value, df, _ = stats.chi2_contingency(survivors)\n",
    "\n",
    "print(f'p-valeur pour un test unilatéral: {p_value / 2:.4f}')"
   ],
   "metadata": {
    "collapsed": false,
    "ExecuteTime": {
     "end_time": "2024-09-15T12:55:26.912238700Z",
     "start_time": "2024-09-15T12:55:26.856628300Z"
    }
   },
   "id": "b82ad1367c6c3a50"
  },
  {
   "cell_type": "markdown",
   "source": [
    "### Alpha \n",
    "\n",
    "La valeur alpha, ou niveau de signification, est un seuil fixé à l'avance dans un test statistique pour décider si une différence observée est statistiquement significative ou non."
   ],
   "metadata": {
    "collapsed": false
   },
   "id": "9ab5da344012cca0"
  },
  {
   "cell_type": "markdown",
   "source": [
    "# Distribution de Gosset (t de Student)\n",
    "\n",
    "La **distribution de Gosset**, également connue sous le nom de **distribution t de Student**, est une distribution de probabilité utilisée en statistiques lorsqu'on travaille avec des **petits échantillons** et que la **variance de la population est inconnue**.\n",
    "\n",
    "## Utilisation\n",
    "La distribution t de Student est utilisée lorsque :\n",
    "1. La **taille de l'échantillon** est petite (n < 30).\n",
    "2. La **variance de la population** est inconnue.\n",
    "3. Les données suivent une **distribution normale** ou approximativement normale.\n",
    "\n",
    "Elle est principalement utilisée dans les **tests t** :\n",
    "- **Test t pour un échantillon** : comparer la moyenne d'un échantillon à une valeur hypothétique.\n",
    "- **Test t pour deux échantillons indépendants** : comparer les moyennes de deux groupes.\n",
    "- **Test t apparié** : comparer les moyennes de deux mesures sur les mêmes sujets.\n",
    "\n",
    "## Différence avec la distribution normale\n",
    "- La **distribution t** a des **queues plus épaisses** que la distribution normale, ce qui permet de mieux modéliser les variations extrêmes dans les petits échantillons.\n",
    "- À mesure que la taille de l'échantillon augmente, la distribution t devient proche de la **distribution normale**.\n",
    "\n",
    "## Formule de la statistique t\n",
    "\n",
    "$\n",
    "t = \\frac{\\bar{x} - \\mu}{\\frac{s}{\\sqrt{n}}}\n",
    "$\n",
    "\n",
    "- $\\bar{x} $ : Moyenne de l'échantillon.\n",
    "- $\\mu $ : Moyenne de la population sous l'hypothèse nulle.\n",
    "- $ s $ : Écart-type de l'échantillon.\n",
    "- $ n $ : Taille de l'échantillon.\n"
   ],
   "metadata": {
    "collapsed": false
   },
   "id": "ae428371c4a8e0d"
  },
  {
   "cell_type": "code",
   "execution_count": 13,
   "outputs": [
    {
     "data": {
      "text/plain": "<Figure size 800x600 with 1 Axes>",
      "image/png": "[encoded data removed]"
     },
     "metadata": {},
     "output_type": "display_data"
    }
   ],
   "source": [
    "df = 10\n",
    "mu, sigma = 0, 1\n",
    "\n",
    "x = np.linspace(-5, 5, 1000)\n",
    "\n",
    "t_dist = stats.t.pdf(x, df)\n",
    "normal_dist = stats.norm.pdf(x, mu, sigma)\n",
    "\n",
    "plt.figure(figsize=(8, 6))\n",
    "\n",
    "plt.plot(x, t_dist, 'b-', label=f't de Student (df={df})')\n",
    "plt.fill_between(x, t_dist, color='blue', alpha=0.3)\n",
    "\n",
    "plt.plot(x, normal_dist, 'r-', label='Distribution normale')\n",
    "plt.fill_between(x, normal_dist, color='red', alpha=0.3)\n",
    "\n",
    "plt.title(\"Superposition de la distribution t de Student et normale\")\n",
    "plt.xlabel('Valeurs')\n",
    "plt.ylabel('Densité de probabilité')\n",
    "plt.legend()\n",
    "\n",
    "plt.show()"
   ],
   "metadata": {
    "collapsed": false,
    "ExecuteTime": {
     "end_time": "2024-09-15T12:55:27.123276200Z",
     "start_time": "2024-09-15T12:55:26.874240500Z"
    }
   },
   "id": "544abb5c547260c6"
  },
  {
   "cell_type": "code",
   "execution_count": 14,
   "outputs": [
    {
     "name": "stdout",
     "output_type": "stream",
     "text": [
      " p-Valeur pour un test unilatéral est de 0.1408\n"
     ]
    }
   ],
   "source": [
    "res = stats.ttest_ind(session_times[session_times.Page == \"Page A\"].Time,\n",
    "                      session_times[session_times.Page == \"Page B\"].Time,\n",
    "                      equal_var = False\n",
    "                      )\n",
    "\n",
    "print(f\" p-Valeur pour un test unilatéral est de {res.pvalue/2:.4f}\")"
   ],
   "metadata": {
    "collapsed": false,
    "ExecuteTime": {
     "end_time": "2024-09-15T12:55:27.124276300Z",
     "start_time": "2024-09-15T12:55:27.064275400Z"
    }
   },
   "id": "99050d371400b5e2"
  },
  {
   "cell_type": "markdown",
   "source": [
    "## ANOVA"
   ],
   "metadata": {
    "collapsed": false
   },
   "id": "74cbba6621461f3a"
  },
  {
   "cell_type": "code",
   "execution_count": 15,
   "outputs": [
    {
     "data": {
      "text/plain": "<Figure size 400x400 with 1 Axes>",
      "image/png": "[encoded data removed]"
     },
     "metadata": {},
     "output_type": "display_data"
    }
   ],
   "source": [
    "four_sessions = pd.read_csv(FOUR_SESSIONS_CSV)\n",
    "\n",
    "ax = four_sessions.boxplot(by='Page', column='Time',\n",
    "                           figsize=(4, 4))\n",
    "ax.set_xlabel('Page')\n",
    "ax.set_ylabel('Temps (en secondes)')\n",
    "plt.suptitle('')\n",
    "plt.title('')\n",
    "\n",
    "plt.tight_layout()\n",
    "plt.show()"
   ],
   "metadata": {
    "collapsed": false,
    "ExecuteTime": {
     "end_time": "2024-09-15T12:55:27.145346700Z",
     "start_time": "2024-09-15T12:55:27.064275400Z"
    }
   },
   "id": "638d9f125e61864f"
  },
  {
   "cell_type": "code",
   "execution_count": 16,
   "outputs": [
    {
     "name": "stdout",
     "output_type": "stream",
     "text": [
      "Moyenne observée: [[172.8]\n",
      " [182.6]\n",
      " [175.6]\n",
      " [164.6]]\n",
      "Variance: 55.426666666666655\n",
      "p-Valeur : 0.08233333333333333\n"
     ]
    }
   ],
   "source": [
    "observed_variance = four_sessions.groupby('Page').mean().var().iloc[0]\n",
    "print('Moyenne observée:', four_sessions.groupby('Page').mean().values)\n",
    "print('Variance:', observed_variance)\n",
    "\n",
    "def perm_test(df):\n",
    "    df = df.copy()\n",
    "    df['Time'] = np.random.permutation(df['Time'].values)\n",
    "    return df.groupby('Page').mean().var().iloc[0]\n",
    "\n",
    "perm_variance = [perm_test(four_sessions) for _ in range(3000)]\n",
    "print('p-Valeur :', np.mean([var > observed_variance for var in perm_variance]))"
   ],
   "metadata": {
    "collapsed": false,
    "ExecuteTime": {
     "end_time": "2024-09-15T12:55:28.793598300Z",
     "start_time": "2024-09-15T12:55:27.141282300Z"
    }
   },
   "id": "1d17c41eb4213513"
  },
  {
   "cell_type": "markdown",
   "source": [
    "## F Statistic et ANOVA\n",
    "\n"
   ],
   "metadata": {
    "collapsed": false
   },
   "id": "102ff8f0a0b03ddc"
  },
  {
   "cell_type": "markdown",
   "source": [
    "# ANOVA (Analysis of Variance)\n",
    "\n",
    "L'**ANOVA** (Analyse de la variance) est un test statistique utilisé pour comparer les moyennes de plusieurs groupes et déterminer si elles sont significativement différentes. Ce test est utile lorsque l'on a plus de deux groupes à comparer et qu'on veut savoir si au moins un groupe diffère des autres.\n",
    "\n",
    "### 1. Hypothèses de l'ANOVA\n",
    "\n",
    "- **Hypothèse nulle (H₀)** : Toutes les moyennes des groupes sont égales. Il n'y a pas de différence significative entre les groupes.\n",
    "- **Hypothèse alternative (H₁)** : Au moins une moyenne de groupe est différente des autres.\n",
    "\n",
    "### 2. Fonctionnement de l'ANOVA\n",
    "\n",
    "L'ANOVA compare deux types de variances :\n",
    "- **Variance entre les groupes** : Variation des moyennes entre les différents groupes. C'est l'effet potentiel du traitement ou des différences entre les groupes.\n",
    "- **Variance à l'intérieur des groupes** : Variation au sein de chaque groupe. Cela représente les différences dues à des facteurs aléatoires ou à des erreurs expérimentales.\n",
    "\n",
    "Le test calcule un rapport appelé la **F-statistic** :\n",
    "\n",
    "$\n",
    "F = \\frac{\\text{Variance entre les groupes}}{\\text{Variance à l'intérieur des groupes}}\n",
    "$\n",
    "\n",
    "- Si la variance entre les groupes est beaucoup plus grande que la variance à l'intérieur des groupes, l'**F-statistic** sera élevée, suggérant des différences significatives entre les groupes.\n",
    "- Si l'F-statistic est faible, cela signifie que les différences entre les groupes peuvent être dues au hasard.\n"
   ],
   "metadata": {
    "collapsed": false
   },
   "id": "21e9c9731f44b1c6"
  },
  {
   "cell_type": "markdown",
   "source": [],
   "metadata": {
    "collapsed": false
   },
   "id": "caac9905e515f93e"
  },
  {
   "cell_type": "code",
   "execution_count": 17,
   "outputs": [
    {
     "data": {
      "text/plain": "            df  sum_sq     mean_sq         F    PR(>F)\nPage       3.0   831.4  277.133333  2.739825  0.077586\nResidual  16.0  1618.4  101.150000       NaN       NaN",
      "text/html": "<div>\n<style scoped>\n    .dataframe tbody tr th:only-of-type {\n        vertical-align: middle;\n    }\n\n    .dataframe tbody tr th {\n        vertical-align: top;\n    }\n\n    .dataframe thead th {\n        text-align: right;\n    }\n</style>\n<table border=\"1\" class=\"dataframe\">\n  <thead>\n    <tr style=\"text-align: right;\">\n      <th></th>\n      <th>df</th>\n      <th>sum_sq</th>\n      <th>mean_sq</th>\n      <th>F</th>\n      <th>PR(&gt;F)</th>\n    </tr>\n  </thead>\n  <tbody>\n    <tr>\n      <th>Page</th>\n      <td>3.0</td>\n      <td>831.4</td>\n      <td>277.133333</td>\n      <td>2.739825</td>\n      <td>0.077586</td>\n    </tr>\n    <tr>\n      <th>Residual</th>\n      <td>16.0</td>\n      <td>1618.4</td>\n      <td>101.150000</td>\n      <td>NaN</td>\n      <td>NaN</td>\n    </tr>\n  </tbody>\n</table>\n</div>"
     },
     "execution_count": 17,
     "metadata": {},
     "output_type": "execute_result"
    }
   ],
   "source": [
    "model = smf.ols('Time ~ Page', data=four_sessions).fit()\n",
    "\n",
    "aov_table = sm.stats.anova_lm(model)\n",
    "aov_table"
   ],
   "metadata": {
    "collapsed": false,
    "ExecuteTime": {
     "end_time": "2024-09-15T12:55:28.829611100Z",
     "start_time": "2024-09-15T12:55:28.793598300Z"
    }
   },
   "id": "98e828de7757ade6"
  },
  {
   "cell_type": "markdown",
   "source": [
    "# Décomposition de la Variance\n",
    "\n",
    "En statistique, la **décomposition de la variance** permet de décomposer chaque valeur observée dans un jeu de données en trois composantes : la moyenne générale, l'effet du traitement, et l'erreur résiduelle. Cette méthode est souvent utilisée dans des analyses comme l'ANOVA.\n",
    "\n",
    "### 1. Moyenne générale (grand average)\n",
    "\n",
    "La **moyenne générale** est la moyenne de toutes les valeurs observées dans le jeu de données, sans tenir compte des groupes ou des catégories. C'est la tendance centrale globale des données. Par exemple, pour des données sur l'adhérence des pages web, la moyenne générale est :\n",
    "\n",
    "$\n",
    "\\text{Moyenne générale} = 173.75\n",
    "$\n",
    "\n",
    "### 2. Effet du traitement (treatment effect)\n",
    "\n",
    "L'**effet du traitement** correspond à la différence entre la moyenne d'un groupe spécifique (ou d'une condition) et la moyenne générale. Cet effet peut être positif ou négatif.\n",
    "\n",
    "Dans l'exemple :\n",
    "- Moyenne du groupe A = 172\n",
    "- Effet du traitement = 172 - 173.75 = -1.75\n",
    "\n",
    "Cela signifie que ce groupe a une moyenne légèrement inférieure à la moyenne générale.\n",
    "\n",
    "### 3. Erreur résiduelle (residual error)\n",
    "\n",
    "L'**erreur résiduelle** est la différence entre une valeur observée individuelle et la moyenne de son groupe. Elle représente les variations aléatoires ou les facteurs non expliqués par le traitement.\n",
    "\n",
    "Dans l'exemple :\n",
    "- Valeur observée = 164\n",
    "- Moyenne du groupe = 172\n",
    "- Erreur résiduelle = 164 - 172 = -8\n",
    "\n",
    "Cela montre que cette valeur est en-dessous de la moyenne du groupe.\n",
    "\n",
    "### 4. Exemple de Décomposition de la Variance\n",
    "\n",
    "Prenons l'exemple de la première valeur observée dans un test A/B/C/D :\n",
    "\n",
    "- **Moyenne générale** : 173.75\n",
    "- **Effet du traitement (groupe A)** : -1.75\n",
    "- **Erreur résiduelle** : -8\n",
    "\n",
    "On peut décomposer la valeur observée de la manière suivante :\n",
    "\n",
    "$\n",
    "\\text{Valeur observée} = \\text{Moyenne générale} + \\text{Effet du traitement} + \\text{Erreur résiduelle}\n",
    "$\n",
    "$\n",
    "164 = 173.75 + (-1.75) + (-8)\n",
    "$\n"
   ],
   "metadata": {
    "collapsed": false
   },
   "id": "f87b851f33cd8131"
  },
  {
   "cell_type": "markdown",
   "source": [
    "## Test du Chi-carré\n",
    "\n",
    "Supposons que vous testiez trois titres différents—A, B et C—et que vous les présentez chacun à 1 000 visiteurs, avec les résultats affichés dans le tableau ci-dessous.\n",
    "\n",
    "| **Titre** | **Click** | **No-click** |\n",
    "|-----------|------------|---------------|\n",
    "| A         | 14         | 986           |\n",
    "| B         | 8          | 992           |\n",
    "| C         | 12         | 988           |\n",
    "\n",
    "Les titres semblent différer. Par exemple, le titre A génère presque deux fois plus de clics que le titre B. Cependant, les chiffres sont petits, donc une procédure de rééchantillonnage est nécessaire pour tester si ces différences de taux de clics sont plus importantes que ce que le hasard pourrait provoquer.\n",
    "\n",
    "### Hypothèse Nulle\n",
    "\n",
    "L'hypothèse nulle (**H₀**) est que tous les titres partagent le même taux de clics global, qui serait de **34 clics sur 3 000 visiteurs**. Si cette hypothèse est vraie, la distribution attendue des clics est présentée dans le tableau suivant.\n",
    "\n",
    "| **Titre** | **Click (Attendu)** | **No-click (Attendu)** |\n",
    "|-----------|---------------------|------------------------|\n",
    "| A         | 11.33               | 988.67                 |\n",
    "| B         | 11.33               | 988.67                 |\n",
    "| C         | 11.33               | 988.67                 |\n",
    "\n",
    "### Calcul des Résidus de Pearson\n",
    "\n",
    "Les **résidus de Pearson** mesurent l'écart entre les valeurs observées et les valeurs attendues sous l'hypothèse nulle. Les résidus pour chaque titre sont donnés dans le tableau suivant.\n",
    "\n",
    "$\n",
    "R = \\frac{O - E}{\\sqrt{E}}\n",
    "$\n",
    "\n",
    "\n",
    "| **Titre** | **Click** | **No-click** |\n",
    "|-----------|-----------|--------------|\n",
    "| A         | 0.792     | -0.085       |\n",
    "| B         | -0.990    | 0.106        |\n",
    "| C         | 0.198     | -0.021       |\n",
    "\n",
    "## Statistique du Chi-carré\n",
    "\n",
    "La **statistique du Chi-carré** est définie comme la somme des résidus de Pearson au carré. Elle est calculée ainsi :\n",
    "\n",
    "$\n",
    "\\chi^2 = \\sum_{i=1}^{r} \\sum_{j=1}^{c} R_{ij}^2\n",
    "$\n",
    "\n",
    "où **r** est le nombre de lignes et **c** le nombre de colonnes.\n",
    "\n",
    "Dans cet exemple, la statistique du Chi-carré est **1.666**.\n",
    "\n"
   ],
   "metadata": {
    "collapsed": false
   },
   "id": "d72b5c01c70cffd2"
  },
  {
   "cell_type": "code",
   "execution_count": 18,
   "outputs": [
    {
     "name": "stdout",
     "output_type": "stream",
     "text": [
      "Headline  Headline A  Headline B  Headline C\n",
      "Click                                       \n",
      "Click             14           8          12\n",
      "No-click         986         992         988\n"
     ]
    },
    {
     "data": {
      "text/plain": "          Headline A  Headline B  Headline C\nClick                                       \nClick      11.333333   11.333333   11.333333\nNo-click  988.666667  988.666667  988.666667",
      "text/html": "<div>\n<style scoped>\n    .dataframe tbody tr th:only-of-type {\n        vertical-align: middle;\n    }\n\n    .dataframe tbody tr th {\n        vertical-align: top;\n    }\n\n    .dataframe thead th {\n        text-align: right;\n    }\n</style>\n<table border=\"1\" class=\"dataframe\">\n  <thead>\n    <tr style=\"text-align: right;\">\n      <th></th>\n      <th>Headline A</th>\n      <th>Headline B</th>\n      <th>Headline C</th>\n    </tr>\n    <tr>\n      <th>Click</th>\n      <th></th>\n      <th></th>\n      <th></th>\n    </tr>\n  </thead>\n  <tbody>\n    <tr>\n      <th>Click</th>\n      <td>11.333333</td>\n      <td>11.333333</td>\n      <td>11.333333</td>\n    </tr>\n    <tr>\n      <th>No-click</th>\n      <td>988.666667</td>\n      <td>988.666667</td>\n      <td>988.666667</td>\n    </tr>\n  </tbody>\n</table>\n</div>"
     },
     "execution_count": 18,
     "metadata": {},
     "output_type": "execute_result"
    }
   ],
   "source": [
    "# Table 3-4\n",
    "click_rate = pd.read_csv(CLICK_RATE_CSV)\n",
    "clicks = click_rate.pivot(index='Click', columns='Headline', values='Rate')\n",
    "print(clicks)\n",
    "\n",
    "# Table 3-5\n",
    "row_average = clicks.mean(axis=1)\n",
    "pd.DataFrame({\n",
    "    'Headline A': row_average,\n",
    "    'Headline B': row_average,\n",
    "    'Headline C': row_average,\n",
    "})"
   ],
   "metadata": {
    "collapsed": false,
    "ExecuteTime": {
     "end_time": "2024-09-15T12:55:28.847114100Z",
     "start_time": "2024-09-15T12:55:28.810600600Z"
    }
   },
   "id": "97366bf7d7222925"
  },
  {
   "cell_type": "code",
   "execution_count": 19,
   "outputs": [
    {
     "name": "stdout",
     "output_type": "stream",
     "text": [
      "chi2 observé: 1.6659\n",
      "p-valeur aprés re-échantillonage: 0.4765\n"
     ]
    }
   ],
   "source": [
    "# Resampling approach\n",
    "box = [1] * 34\n",
    "box.extend([0] * 2966)\n",
    "random.shuffle(box)\n",
    "\n",
    "def chi2(observed, expected):\n",
    "    pearson_residuals = []\n",
    "    for row, expect in zip(observed, expected):\n",
    "        pearson_residuals.append([(observe - expect) ** 2 / expect\n",
    "                                  for observe in row])\n",
    "    # return sum of squares\n",
    "    return np.sum(pearson_residuals)\n",
    "\n",
    "expected_clicks = 34 / 3\n",
    "expected_noclicks = 1000 - expected_clicks\n",
    "expected = [expected_clicks, expected_noclicks]\n",
    "chi2observed = chi2(clicks.values, expected)\n",
    "\n",
    "def perm_fun(box):\n",
    "    random.shuffle(box)\n",
    "    sample_clicks = [sum(box[0:1000]),\n",
    "                     sum(box[1000:2000]),\n",
    "                     sum(box[2000:3000])]\n",
    "    sample_noclicks = [1000 - n for n in sample_clicks]\n",
    "    return chi2([sample_clicks, sample_noclicks], expected)\n",
    "\n",
    "perm_chi2 = [perm_fun(box) for _ in range(2000)]\n",
    "\n",
    "resampled_p_value = sum(perm_chi2 > chi2observed) / len(perm_chi2)\n",
    "print(f'chi2 observé: {chi2observed:.4f}')\n",
    "print(f'p-valeur aprés re-échantillonage: {resampled_p_value:.4f}')"
   ],
   "metadata": {
    "collapsed": false,
    "ExecuteTime": {
     "end_time": "2024-09-15T12:55:30.065745700Z",
     "start_time": "2024-09-15T12:55:28.827600600Z"
    }
   },
   "id": "2821c92152f7b3c7"
  },
  {
   "cell_type": "code",
   "execution_count": 20,
   "outputs": [
    {
     "name": "stdout",
     "output_type": "stream",
     "text": [
      "chi2 observé: 1.6659\n",
      "p-Valeur: 0.4348\n"
     ]
    }
   ],
   "source": [
    "chisq, pvalue, df, expected = stats.chi2_contingency(clicks)\n",
    "print(f'chi2 observé: {chi2observed:.4f}')\n",
    "print(f'p-Valeur: {pvalue:.4f}')"
   ],
   "metadata": {
    "collapsed": false,
    "ExecuteTime": {
     "end_time": "2024-09-15T12:55:30.101424100Z",
     "start_time": "2024-09-15T12:55:30.065745700Z"
    }
   },
   "id": "b7cdedcf15194ce"
  },
  {
   "cell_type": "code",
   "execution_count": 21,
   "outputs": [
    {
     "data": {
      "text/plain": "<Figure size 400x250 with 1 Axes>",
      "image/png": "[encoded data removed]"
     },
     "metadata": {},
     "output_type": "display_data"
    }
   ],
   "source": [
    "x = [1 + i * (30 - 1) / 99 for i in range(100)]\n",
    "\n",
    "chi = pd.DataFrame({\n",
    "    'x': x,\n",
    "    'chi_1': stats.chi2.pdf(x, df=1),\n",
    "    'chi_2': stats.chi2.pdf(x, df=2),\n",
    "    'chi_5': stats.chi2.pdf(x, df=5),\n",
    "    'chi_10': stats.chi2.pdf(x, df=10),\n",
    "    'chi_20': stats.chi2.pdf(x, df=20),\n",
    "})\n",
    "fig, ax = plt.subplots(figsize=(4, 2.5))\n",
    "ax.plot(chi.x, chi.chi_1, color='black', linestyle='-', label='1')\n",
    "ax.plot(chi.x, chi.chi_2, color='black', linestyle=(0, (1, 1)), label='2')\n",
    "ax.plot(chi.x, chi.chi_5, color='black', linestyle=(0, (2, 1)), label='5')\n",
    "ax.plot(chi.x, chi.chi_10, color='black', linestyle=(0, (3, 1)), label='10')\n",
    "ax.plot(chi.x, chi.chi_20, color='black', linestyle=(0, (4, 1)), label='20')\n",
    "ax.legend(title='df')\n",
    "\n",
    "plt.tight_layout()\n",
    "plt.show()"
   ],
   "metadata": {
    "collapsed": false,
    "ExecuteTime": {
     "end_time": "2024-09-15T12:55:30.194950Z",
     "start_time": "2024-09-15T12:55:30.081424200Z"
    }
   },
   "id": "8e9b44379b6ae5fe"
  },
  {
   "cell_type": "markdown",
   "source": [
    "# Test de véracité de Fisher"
   ],
   "metadata": {
    "collapsed": false
   },
   "id": "26f867f74923d31c"
  },
  {
   "cell_type": "code",
   "execution_count": 22,
   "outputs": [],
   "source": [
    "#stats.fisher_exact(clicks.values)\n",
    "\n",
    "# Que pour des matrices 2x2"
   ],
   "metadata": {
    "collapsed": false,
    "ExecuteTime": {
     "end_time": "2024-09-15T12:55:30.208945700Z",
     "start_time": "2024-09-15T12:55:30.193949700Z"
    }
   },
   "id": "b315f557f7f7907a"
  },
  {
   "cell_type": "markdown",
   "source": [
    "# Fraude dans la Science"
   ],
   "metadata": {
    "collapsed": false
   },
   "id": "6582b81b180e0520"
  },
  {
   "cell_type": "code",
   "execution_count": 23,
   "outputs": [
    {
     "data": {
      "text/plain": "<Figure size 400x400 with 1 Axes>",
      "image/png": "[encoded data removed]"
     },
     "metadata": {},
     "output_type": "display_data"
    }
   ],
   "source": [
    "imanishi = pd.read_csv(IMANISHI_CSV)\n",
    "imanishi.columns = [c.strip() for c in imanishi.columns]\n",
    "ax = imanishi.plot.bar(x='Digit', y=['Frequency'],figsize=(4, 4))\n",
    "ax.set_xlabel('Digit')\n",
    "ax.set_ylabel('Fréquence')\n",
    "\n",
    "plt.tight_layout()\n",
    "plt.show()"
   ],
   "metadata": {
    "collapsed": false,
    "ExecuteTime": {
     "end_time": "2024-09-15T12:55:30.319466400Z",
     "start_time": "2024-09-15T12:55:30.208945700Z"
    }
   },
   "id": "119db82c78cf59ee"
  },
  {
   "cell_type": "markdown",
   "source": [
    "Les données sont censées suivre une distribution normale, or, on voit très bien ici qu'elle ne la suive pas. Elles ont donc été générées avec biais."
   ],
   "metadata": {
    "collapsed": false
   },
   "id": "11502a1ecdbcdae0"
  },
  {
   "cell_type": "markdown",
   "source": [
    "# Algorithme du bandit manchot\n",
    "\n",
    "Le **Multi-Arm Bandit** offre une approche pour les tests, en particulier les tests web, permettant une optimisation explicite et une prise de décision plus rapide que l'approche statistique traditionnelle utilisée dans la conception d'expériences.\n",
    "\n",
    "## Termes Clés du Multi-Arm Bandit\n",
    "- **Multi-Arm Bandit** : Une machine à sous imaginaire avec plusieurs bras à choisir, chacun ayant des gains différents, utilisée comme analogie pour une expérience multi-traitement.\n",
    "- **Arm (Bras)** : Un traitement dans une expérience (par exemple, \"headline A dans un test web\").\n",
    "- **Win (Gagné)** : L'analogie expérimentale d'un gain à la machine à sous (par exemple, \"le client clique sur le lien\").\n",
    "\n",
    "## Limites du Test A/B Traditionnel\n",
    "Un test A/B traditionnel implique de collecter des données dans le cadre d'une expérience pour répondre à une question spécifique, telle que \"Quel traitement est meilleur, A ou B ?\". Cependant, cette approche présente plusieurs limites :\n",
    "1. **Résultat Inconclusif** : Les résultats peuvent suggérer un effet sans avoir un échantillon suffisant pour prouver statistiquement cet effet.\n",
    "2. **Exploitation des Résultats Avant la Fin** : Dans certains cas, il est souhaitable de commencer à tirer parti des résultats avant la fin de l'expérience.\n",
    "3. **Flexibilité** : Après l'expérience, il peut être nécessaire de réévaluer les décisions à la lumière de nouvelles données. L'approche traditionnelle manque de cette flexibilité.\n",
    "\n",
    "Avec l'avènement de la puissance de calcul et des logiciels modernes, des approches plus puissantes et flexibles comme les **bandit algorithms** sont désormais possibles, offrant une alternative plus rapide et plus adaptée à l'optimisation des efforts et des résultats globaux.\n",
    "\n",
    "## Algorithmes Bandits Multi-Bras\n",
    "Les **bandit algorithms** permettent de tester plusieurs traitements en parallèle et d'arriver à des conclusions plus rapidement que les méthodes traditionnelles. Ils tirent leur nom des machines à sous à bras, souvent appelées \"one-armed bandits\". Si l’on imagine une machine avec plusieurs bras, chacun ayant un taux de récompense différent, cela correspond au problème du **multi-armed bandit**.\n",
    "\n",
    "L'objectif est d'identifier et de sélectionner le bras gagnant le plus tôt possible. Le défi est qu'on ne connaît pas à l'avance le taux de gain de chaque bras ; on ne connaît que les résultats des tirages individuels. \n",
    "\n",
    "### Exemple de Résultats :\n",
    "- **Bras A** : 10 victoires sur 50 essais\n",
    "- **Bras B** : 2 victoires sur 50 essais\n",
    "- **Bras C** : 4 victoires sur 50 essais\n",
    "\n",
    "### Stratégies Extrêmes :\n",
    "1. **Exploitation Pure** : Si le bras A semble meilleur après un petit échantillon, on pourrait arrêter d’essayer les autres bras et se concentrer uniquement sur A. Cependant, cela risque de masquer une performance potentiellement supérieure de B ou C.\n",
    "2. **Exploration Pure** : On continue à tirer de manière égale sur tous les bras, mais cela risque de perdre du temps avec des traitements moins rentables.\n",
    "\n",
    "Les **bandit algorithms** trouvent un compromis : on commence à tirer plus fréquemment sur A tout en continuant à explorer B et C. Si B ou C commence à surpasser A, les tirages s'ajusteront en conséquence.\n",
    "\n",
    "## Application aux Tests Web\n",
    "Plutôt que des bras de machines à sous, on peut avoir différentes offres, titres ou couleurs sur un site web. Initialement, les offres sont affichées de manière aléatoire. Mais si une offre commence à surpasser les autres, elle est affichée plus souvent.\n",
    "\n",
    "### Algorithme Epsilon-Greedy\n",
    "Un algorithme simple pour ajuster les taux d'affichage est l'**epsilon-greedy** :\n",
    "1. Générer un nombre aléatoire entre 0 et 1.\n",
    "2. Si ce nombre est inférieur à epsilon, tirer au sort entre les offres. Sinon, montrer l'offre ayant le meilleur taux de réponse.\n",
    "\n",
    "Epsilon contrôle le degré d'exploration : un epsilon élevé signifie plus d'exploration, tandis qu'un epsilon faible se concentre sur l'exploitation du meilleur bras.\n",
    "\n",
    "### Algorithme Thompson Sampling\n",
    "Un algorithme plus sophistiqué est le **Thompson Sampling**, qui utilise une approche bayésienne pour sélectionner l'action qui maximise la probabilité d'un gain en fonction des observations accumulées. Une distribution initiale (par exemple, une distribution bêta) est mise à jour à chaque tirage pour améliorer l'optimisation des choix futurs.\n",
    "\n",
    "## Avantages des Bandit Algorithms\n",
    "- Ils permettent de réduire l'exposition aux traitements inférieurs.\n",
    "- Ils facilitent le traitement de plus de deux traitements à la fois.\n",
    "- Ils modifient progressivement les probabilités d'échantillonnage pour maximiser les gains globaux.\n"
   ],
   "metadata": {
    "collapsed": false
   },
   "id": "12cd7bad4789346e"
  },
  {
   "cell_type": "markdown",
   "source": [
    "# Puissance et taille d'échantillon\n",
    "\n",
    "### Taille de l'effet (Effect Size)\n",
    "La **taille de l'effet** est la taille minimale de l'effet que l'on espère pouvoir détecter dans un test statistique, comme par exemple \"une amélioration de 20 % des taux de clics.\"\n",
    "\n",
    "### Puissance (Power)\n",
    "La **puissance** d'un test statistique est la probabilité de détecter un effet de taille donnée avec une taille d'échantillon spécifique.\n",
    "\n",
    "### Niveau de Signification (Significance Level)\n",
    "Le **niveau de signification** statistique est le seuil auquel le test est effectué pour déterminer si les résultats observés sont suffisamment inhabituels pour rejeter l'hypothèse nulle.\n"
   ],
   "metadata": {
    "collapsed": false
   },
   "id": "25b857cdff02496b"
  },
  {
   "cell_type": "markdown",
   "source": [],
   "metadata": {
    "collapsed": false
   },
   "id": "67b7f86e98c17436"
  },
  {
   "cell_type": "code",
   "execution_count": 26,
   "outputs": [
    {
     "name": "stdout",
     "output_type": "stream",
     "text": [
      "Taille de l échantillon Size: 13358.883\n"
     ]
    }
   ],
   "source": [
    "effect_size = sm.stats.proportion_effectsize(0.0121, 0.011)\n",
    "analysis = sm.stats.TTestIndPower()\n",
    "result = analysis.solve_power(effect_size=effect_size,\n",
    "                              alpha=0.05, power=0.8, alternative='larger')\n",
    "print('Taille de l échantillon Size: %.3f' % result)"
   ],
   "metadata": {
    "collapsed": false,
    "ExecuteTime": {
     "end_time": "2024-09-15T12:55:56.347952500Z",
     "start_time": "2024-09-15T12:55:56.336442400Z"
    }
   },
   "id": "f707a72cb0e0dfc5"
  }
 ],
 "metadata": {
  "kernelspec": {
   "display_name": "Python 3",
   "language": "python",
   "name": "python3"
  },
  "language_info": {
   "codemirror_mode": {
    "name": "ipython",
    "version": 2
   },
   "file_extension": ".py",
   "mimetype": "text/x-python",
   "name": "python",
   "nbconvert_exporter": "python",
   "pygments_lexer": "ipython2",
   "version": "2.7.6"
  }
 },
 "nbformat": 4,
 "nbformat_minor": 5
}
